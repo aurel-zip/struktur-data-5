{
  "nbformat": 4,
  "nbformat_minor": 0,
  "metadata": {
    "colab": {
      "provenance": []
    },
    "kernelspec": {
      "name": "python3",
      "display_name": "Python 3"
    },
    "language_info": {
      "name": "python"
    }
  },
  "cells": [
    {
      "cell_type": "code",
      "execution_count": null,
      "metadata": {
        "colab": {
          "base_uri": "https://localhost:8080/"
        },
        "id": "qfPaC0QviT6W",
        "outputId": "6f57b7ad-902c-4f3c-ad24-1d07a152e68e"
      },
      "outputs": [
        {
          "output_type": "stream",
          "name": "stdout",
          "text": [
            "Masukkan 3 digit terakhir NPM anda: 45\n",
            "Elemen ditemukan pada indeks 2\n"
          ]
        }
      ],
      "source": [
        "def linear_search(arr, target):\n",
        "    for i in range(len(arr)):\n",
        "        if arr[i] == target:\n",
        "            return i\n",
        "    return -1\n",
        "\n",
        "arr = [60, 24, 45, 20, 50]\n",
        "target = int(input(\"Masukkan 3 digit terakhir NPM anda: \"))\n",
        "\n",
        "result = linear_search(arr, target)\n",
        "\n",
        "if result != -1:\n",
        "    print(f\"Elemen ditemukan pada indeks {result}\")\n",
        "else:\n",
        "    print(f\"Elemen tidak ditemukan.\")"
      ]
    },
    {
      "cell_type": "code",
      "source": [
        "def binary_search(arr, target):\n",
        "    low = 0\n",
        "    high = len(arr) - 1\n",
        "\n",
        "    while low <= high:\n",
        "        mid = (low + high) // 2\n",
        "        if arr[mid] == target:\n",
        "            return mid\n",
        "        elif arr[mid] < target:\n",
        "            low = mid + 1\n",
        "        else:\n",
        "            high = mid - 1\n",
        "\n",
        "    return -1\n",
        "\n",
        "arr = [1010, 1202, 1405, 1608, 1707, 2508, 2808, 3009,]\n",
        "target = int(input(\"Masukkan Tanggal Lahir Anda (DDMM): \"))\n",
        "\n",
        "result = binary_search(arr, target)\n",
        "\n",
        "if result != -1:\n",
        "    print(f\"Elemen ditemukan pada indeks {result}\")\n",
        "else:\n",
        "    print(f\"Elemen tidak ditemukan.\")"
      ],
      "metadata": {
        "id": "Nj8b025Cu9JO",
        "colab": {
          "base_uri": "https://localhost:8080/"
        },
        "outputId": "c0e0f9e3-4d40-497d-8947-9342d2a8b3b3"
      },
      "execution_count": 2,
      "outputs": [
        {
          "output_type": "stream",
          "name": "stdout",
          "text": [
            "Masukkan Tanggal Lahir Anda (DDMM): 1608\n",
            "Elemen ditemukan pada indeks 3\n"
          ]
        }
      ]
    },
    {
      "cell_type": "code",
      "source": [
        "import math\n",
        "\n",
        "def jump_search(arr, target):\n",
        "    n = len(arr)\n",
        "    step = int(math.sqrt(n))\n",
        "    prev = 0\n",
        "\n",
        "    while arr[min(step, n) - 1] < target:\n",
        "        prev = step\n",
        "        step += int(math.sqrt(n))\n",
        "        if prev >= n:\n",
        "            return -1\n",
        "\n",
        "    for i in range(prev, min(step, n)):\n",
        "        if arr[i] == target:\n",
        "            return i\n",
        "    return -1\n",
        "\n",
        "arr = [\"Ambalan\", \"Cupil\", \"Falikha\", \"Ilham\", \"Khalid\", \"Lia\", \"Navista\", \"Nayla\", \"Novela\"]\n",
        "target = input(\"Masukkan nama: \")\n",
        "\n",
        "result = jump_search(arr, target)\n",
        "\n",
        "if result != -1:\n",
        "    print(f\"Elemen ditemukan pada indeks {result}\")\n",
        "else:\n",
        "    print(f\"Elemen tidak ditemukan.\")"
      ],
      "metadata": {
        "colab": {
          "base_uri": "https://localhost:8080/"
        },
        "id": "DGnDE6Bd-EY_",
        "outputId": "176b6a1c-2f36-4b7e-f171-d6449d390038"
      },
      "execution_count": 6,
      "outputs": [
        {
          "output_type": "stream",
          "name": "stdout",
          "text": [
            "Masukkan nama: Khalid\n",
            "Elemen ditemukan pada indeks 4\n"
          ]
        }
      ]
    }
  ]
}