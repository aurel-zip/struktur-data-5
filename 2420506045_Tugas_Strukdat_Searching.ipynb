{
  "nbformat": 4,
  "nbformat_minor": 0,
  "metadata": {
    "colab": {
      "provenance": []
    },
    "kernelspec": {
      "name": "python3",
      "display_name": "Python 3"
    },
    "language_info": {
      "name": "python"
    }
  },
  "cells": [
    {
      "cell_type": "code",
      "source": [
        "import random\n",
        "import math\n",
        "\n",
        "def generate_sorted_list():\n",
        "    sorted_list = sorted(random.sample(range(1, 1001), 100))\n",
        "    print(\"Generated Sorted Array:\", sorted_list)\n",
        "    return sorted_list\n",
        "\n",
        "def linear_search(arr, target):\n",
        "    comparisons = 0\n",
        "    for i in range(len(arr)):\n",
        "        comparisons += 1\n",
        "        if arr[i] == target:\n",
        "            return i, comparisons\n",
        "    return -1, comparisons\n",
        "\n",
        "def binary_search(arr, target):\n",
        "    low, high = 0, len(arr) - 1\n",
        "    comparisons = 0\n",
        "\n",
        "    while low <= high:\n",
        "        mid = (low + high) // 2\n",
        "        comparisons += 1\n",
        "        if arr[mid] == target:\n",
        "            return mid, comparisons\n",
        "        elif arr[mid] < target:\n",
        "            low = mid + 1\n",
        "        else:\n",
        "            high = mid - 1\n",
        "\n",
        "    return -1, comparisons\n",
        "\n",
        "def jump_search(arr, target):\n",
        "    n = len(arr)\n",
        "    step = int(math.sqrt(n))\n",
        "    prev = 0\n",
        "    comparisons = 0\n",
        "\n",
        "    while prev < n and arr[min(step, n) - 1] < target:\n",
        "        comparisons += 1\n",
        "        prev = step\n",
        "        step += int(math.sqrt(n))\n",
        "        if prev >= n:\n",
        "            return -1, comparisons\n",
        "\n",
        "    for i in range(prev, min(step, n)):\n",
        "        comparisons += 1\n",
        "        if arr[i] == target:\n",
        "            return i, comparisons\n",
        "\n",
        "    return -1, comparisons\n",
        "\n",
        "\n",
        "data = generate_sorted_list()\n",
        "\n",
        "target = random.choice(data)\n",
        "\n",
        "\n",
        "linear_idx, linear_comp = linear_search(data, target)\n",
        "binary_idx, binary_comp = binary_search(data, target)\n",
        "jump_idx, jump_comp = jump_search(data, target)\n",
        "\n",
        "print(\"Target:\", target)\n",
        "print(\"Linear Search -> Index:\", linear_idx, \"Comparisons:\", linear_comp)\n",
        "print(\"Binary Search -> Index:\", binary_idx, \"Comparisons:\", binary_comp)\n",
        "print(\"Jump Search -> Index:\", jump_idx, \"Comparisons:\", jump_comp)"
      ],
      "metadata": {
        "colab": {
          "base_uri": "https://localhost:8080/"
        },
        "id": "L3eurW5UN54r",
        "outputId": "fae55432-d0e4-4958-e756-54ca23dfdae5"
      },
      "execution_count": 1,
      "outputs": [
        {
          "output_type": "stream",
          "name": "stdout",
          "text": [
            "Generated Sorted Array: [28, 42, 46, 49, 52, 56, 65, 77, 79, 93, 104, 111, 123, 137, 146, 149, 162, 164, 200, 206, 210, 211, 218, 248, 263, 268, 279, 280, 285, 299, 300, 304, 310, 313, 326, 348, 352, 360, 362, 373, 413, 416, 425, 430, 464, 477, 490, 498, 528, 553, 557, 566, 571, 593, 597, 612, 625, 627, 630, 633, 645, 649, 650, 655, 665, 681, 685, 686, 714, 716, 717, 724, 729, 732, 737, 743, 747, 755, 770, 775, 781, 797, 806, 869, 874, 883, 889, 894, 896, 902, 904, 908, 934, 937, 938, 968, 981, 990, 992, 993]\n",
            "Target: 770\n",
            "Linear Search -> Index: 78 Comparisons: 79\n",
            "Binary Search -> Index: 78 Comparisons: 6\n",
            "Jump Search -> Index: 78 Comparisons: 16\n"
          ]
        }
      ]
    }
  ]
}