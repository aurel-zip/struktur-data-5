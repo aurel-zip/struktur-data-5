{
  "nbformat": 4,
  "nbformat_minor": 0,
  "metadata": {
    "colab": {
      "provenance": []
    },
    "kernelspec": {
      "name": "python3",
      "display_name": "Python 3"
    },
    "language_info": {
      "name": "python"
    }
  },
  "cells": [
    {
      "cell_type": "code",
      "source": [
        "from typing import Counter\n",
        "import math\n",
        "import random\n",
        "\n",
        "Counter = 0\n",
        "def jump_search(arr, target):\n",
        "    global Counter\n",
        "    n = len(arr)\n",
        "    step = int(math.sqrt(n))\n",
        "    prev = 0\n",
        "\n",
        "    while arr[min(step, n) - 1] < target:\n",
        "        prev = step\n",
        "        step += int(math.sqrt(n))\n",
        "        Counter += 1\n",
        "        if prev >= n:\n",
        "            return -1\n",
        "\n",
        "    for i in range (prev, min(step, n)):\n",
        "        if arr[i] == target:\n",
        "            return i\n",
        "        Counter += 1\n",
        "\n",
        "    return -1\n",
        "\n",
        "def linear_search(arr, target):\n",
        "  Counter = 0\n",
        "  for i in range(len(arr)):\n",
        "        if arr[i] == target:\n",
        "          return i, Counter\n",
        "        Counter += 1\n",
        "  return -1, Counter\n",
        "\n",
        "arr = sorted(random.sample(range(1, 1001), 100))\n",
        "print(arr)\n",
        "target = int(input(\"Masukan angka acak: \"))\n",
        "\n",
        "result = jump_search(arr, target)\n",
        "\n",
        "if result != -1:\n",
        "    print(f\"Angka ditemukan pada indeks {result}\")\n",
        "    print(f\"Jumlah perbandingan: {Counter}\")\n",
        "else:\n",
        "    print(\"Angka tidak ditemukan dalam array\")\n",
        "    print(f\"Jumlah perbandingan: {Counter}\")"
      ],
      "metadata": {
        "colab": {
          "base_uri": "https://localhost:8080/"
        },
        "id": "i83ZrRLGECb3",
        "outputId": "c9688d42-b58c-4e57-ce97-6708b17423ed"
      },
      "execution_count": 14,
      "outputs": [
        {
          "output_type": "stream",
          "name": "stdout",
          "text": [
            "[24, 43, 44, 55, 70, 75, 83, 104, 107, 109, 115, 175, 197, 203, 204, 207, 213, 236, 244, 257, 259, 261, 262, 268, 272, 280, 285, 287, 294, 304, 319, 323, 325, 329, 334, 361, 364, 369, 373, 390, 395, 420, 422, 424, 433, 436, 464, 481, 482, 485, 491, 493, 498, 500, 504, 519, 520, 525, 531, 534, 539, 555, 564, 574, 576, 595, 601, 638, 651, 664, 665, 668, 677, 695, 734, 735, 776, 795, 799, 813, 822, 829, 838, 839, 843, 853, 864, 865, 868, 884, 892, 896, 926, 937, 946, 965, 968, 975, 983, 995]\n",
            "Masukan angka acak: 364\n",
            "Angka ditemukan pada indeks 36\n",
            "Jumlah perbandingan: 9\n"
          ]
        }
      ]
    }
  ]
}